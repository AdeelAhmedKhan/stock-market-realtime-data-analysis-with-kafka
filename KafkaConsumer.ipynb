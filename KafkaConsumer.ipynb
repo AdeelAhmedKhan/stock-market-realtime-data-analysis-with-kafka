{
 "cells": [
  {
   "cell_type": "code",
   "execution_count": 10,
   "id": "0ff41b1f",
   "metadata": {},
   "outputs": [
    {
     "name": "stdout",
     "output_type": "stream",
     "text": [
      "Requirement already satisfied: boto3 in c:\\users\\pmls\\appdata\\local\\programs\\python\\python313\\lib\\site-packages (1.9.253)\n",
      "Collecting botocore<1.13.0,>=1.12.253 (from boto3)\n",
      "  Using cached botocore-1.12.253-py2.py3-none-any.whl.metadata (2.9 kB)\n",
      "Requirement already satisfied: jmespath<1.0.0,>=0.7.1 in c:\\users\\pmls\\appdata\\local\\programs\\python\\python313\\lib\\site-packages (from boto3) (0.10.0)\n",
      "Requirement already satisfied: s3transfer<0.3.0,>=0.2.0 in c:\\users\\pmls\\appdata\\local\\programs\\python\\python313\\lib\\site-packages (from boto3) (0.2.1)\n",
      "Requirement already satisfied: python-dateutil<3.0.0,>=2.1 in c:\\users\\pmls\\appdata\\local\\programs\\python\\python313\\lib\\site-packages (from botocore<1.13.0,>=1.12.253->boto3) (2.9.0.post0)\n",
      "Requirement already satisfied: docutils<0.16,>=0.10 in c:\\users\\pmls\\appdata\\local\\programs\\python\\python313\\lib\\site-packages (from botocore<1.13.0,>=1.12.253->boto3) (0.15.2)\n",
      "Collecting urllib3<1.26,>=1.20 (from botocore<1.13.0,>=1.12.253->boto3)\n",
      "  Using cached urllib3-1.25.11-py2.py3-none-any.whl.metadata (41 kB)\n",
      "Requirement already satisfied: six>=1.5 in c:\\users\\pmls\\appdata\\local\\programs\\python\\python313\\lib\\site-packages (from python-dateutil<3.0.0,>=2.1->botocore<1.13.0,>=1.12.253->boto3) (1.16.0)\n",
      "Using cached botocore-1.12.253-py2.py3-none-any.whl (5.7 MB)\n",
      "Using cached urllib3-1.25.11-py2.py3-none-any.whl (127 kB)\n",
      "Installing collected packages: urllib3, botocore\n",
      "  Attempting uninstall: urllib3\n",
      "    Found existing installation: urllib3 2.2.3\n",
      "    Uninstalling urllib3-2.2.3:\n",
      "      Successfully uninstalled urllib3-2.2.3\n",
      "  Attempting uninstall: botocore\n",
      "    Found existing installation: botocore 1.38.27\n",
      "    Uninstalling botocore-1.38.27:\n",
      "      Successfully uninstalled botocore-1.38.27\n",
      "Successfully installed botocore-1.12.253 urllib3-1.25.11\n",
      "Note: you may need to restart the kernel to use updated packages.\n"
     ]
    },
    {
     "name": "stderr",
     "output_type": "stream",
     "text": [
      "ERROR: pip's dependency resolver does not currently take into account all the packages that are installed. This behaviour is the source of the following dependency conflicts.\n",
      "aiobotocore 2.23.0 requires botocore<1.38.28,>=1.38.23, but you have botocore 1.12.253 which is incompatible.\n",
      "\n",
      "[notice] A new release of pip is available: 25.0.1 -> 25.1.1\n",
      "[notice] To update, run: python.exe -m pip install --upgrade pip\n"
     ]
    }
   ],
   "source": [
    "pip install boto3\n"
   ]
  },
  {
   "cell_type": "code",
   "execution_count": 13,
   "id": "f5118238",
   "metadata": {},
   "outputs": [
    {
     "name": "stdout",
     "output_type": "stream",
     "text": [
      "Requirement already satisfied: s3fs in c:\\users\\pmls\\appdata\\local\\programs\\python\\python313\\lib\\site-packages (2025.5.1)Note: you may need to restart the kernel to use updated packages.\n"
     ]
    },
    {
     "name": "stderr",
     "output_type": "stream",
     "text": [
      "ERROR: pip's dependency resolver does not currently take into account all the packages that are installed. This behaviour is the source of the following dependency conflicts.\n",
      "boto3 1.9.253 requires botocore<1.13.0,>=1.12.253, but you have botocore 1.38.27 which is incompatible.\n",
      "\n",
      "[notice] A new release of pip is available: 25.0.1 -> 25.1.1\n",
      "[notice] To update, run: python.exe -m pip install --upgrade pip\n"
     ]
    },
    {
     "name": "stdout",
     "output_type": "stream",
     "text": [
      "\n",
      "Requirement already satisfied: aiobotocore<3.0.0,>=2.5.4 in c:\\users\\pmls\\appdata\\local\\programs\\python\\python313\\lib\\site-packages (from s3fs) (2.23.0)\n",
      "Requirement already satisfied: fsspec==2025.5.1 in c:\\users\\pmls\\appdata\\local\\programs\\python\\python313\\lib\\site-packages (from s3fs) (2025.5.1)\n",
      "Requirement already satisfied: aiohttp!=4.0.0a0,!=4.0.0a1 in c:\\users\\pmls\\appdata\\local\\programs\\python\\python313\\lib\\site-packages (from s3fs) (3.12.13)\n",
      "Requirement already satisfied: aioitertools<1.0.0,>=0.5.1 in c:\\users\\pmls\\appdata\\local\\programs\\python\\python313\\lib\\site-packages (from aiobotocore<3.0.0,>=2.5.4->s3fs) (0.12.0)\n",
      "Collecting botocore<1.38.28,>=1.38.23 (from aiobotocore<3.0.0,>=2.5.4->s3fs)\n",
      "  Using cached botocore-1.38.27-py3-none-any.whl.metadata (5.7 kB)\n",
      "Requirement already satisfied: python-dateutil<3.0.0,>=2.1 in c:\\users\\pmls\\appdata\\local\\programs\\python\\python313\\lib\\site-packages (from aiobotocore<3.0.0,>=2.5.4->s3fs) (2.9.0.post0)\n",
      "Requirement already satisfied: jmespath<2.0.0,>=0.7.1 in c:\\users\\pmls\\appdata\\local\\programs\\python\\python313\\lib\\site-packages (from aiobotocore<3.0.0,>=2.5.4->s3fs) (0.10.0)\n",
      "Requirement already satisfied: multidict<7.0.0,>=6.0.0 in c:\\users\\pmls\\appdata\\local\\programs\\python\\python313\\lib\\site-packages (from aiobotocore<3.0.0,>=2.5.4->s3fs) (6.4.4)\n",
      "Requirement already satisfied: wrapt<2.0.0,>=1.10.10 in c:\\users\\pmls\\appdata\\local\\programs\\python\\python313\\lib\\site-packages (from aiobotocore<3.0.0,>=2.5.4->s3fs) (1.17.2)\n",
      "Requirement already satisfied: aiohappyeyeballs>=2.5.0 in c:\\users\\pmls\\appdata\\local\\programs\\python\\python313\\lib\\site-packages (from aiohttp!=4.0.0a0,!=4.0.0a1->s3fs) (2.6.1)\n",
      "Requirement already satisfied: aiosignal>=1.1.2 in c:\\users\\pmls\\appdata\\local\\programs\\python\\python313\\lib\\site-packages (from aiohttp!=4.0.0a0,!=4.0.0a1->s3fs) (1.3.2)\n",
      "Requirement already satisfied: attrs>=17.3.0 in c:\\users\\pmls\\appdata\\local\\programs\\python\\python313\\lib\\site-packages (from aiohttp!=4.0.0a0,!=4.0.0a1->s3fs) (24.2.0)\n",
      "Requirement already satisfied: frozenlist>=1.1.1 in c:\\users\\pmls\\appdata\\local\\programs\\python\\python313\\lib\\site-packages (from aiohttp!=4.0.0a0,!=4.0.0a1->s3fs) (1.7.0)\n",
      "Requirement already satisfied: propcache>=0.2.0 in c:\\users\\pmls\\appdata\\local\\programs\\python\\python313\\lib\\site-packages (from aiohttp!=4.0.0a0,!=4.0.0a1->s3fs) (0.3.2)\n",
      "Requirement already satisfied: yarl<2.0,>=1.17.0 in c:\\users\\pmls\\appdata\\local\\programs\\python\\python313\\lib\\site-packages (from aiohttp!=4.0.0a0,!=4.0.0a1->s3fs) (1.20.1)\n",
      "Requirement already satisfied: urllib3!=2.2.0,<3,>=1.25.4 in c:\\users\\pmls\\appdata\\local\\programs\\python\\python313\\lib\\site-packages (from botocore<1.38.28,>=1.38.23->aiobotocore<3.0.0,>=2.5.4->s3fs) (1.25.11)\n",
      "Requirement already satisfied: six>=1.5 in c:\\users\\pmls\\appdata\\local\\programs\\python\\python313\\lib\\site-packages (from python-dateutil<3.0.0,>=2.1->aiobotocore<3.0.0,>=2.5.4->s3fs) (1.16.0)\n",
      "Requirement already satisfied: idna>=2.0 in c:\\users\\pmls\\appdata\\local\\programs\\python\\python313\\lib\\site-packages (from yarl<2.0,>=1.17.0->aiohttp!=4.0.0a0,!=4.0.0a1->s3fs) (3.10)\n",
      "Using cached botocore-1.38.27-py3-none-any.whl (13.6 MB)\n",
      "Installing collected packages: botocore\n",
      "  Attempting uninstall: botocore\n",
      "    Found existing installation: botocore 1.12.253\n",
      "    Uninstalling botocore-1.12.253:\n",
      "      Successfully uninstalled botocore-1.12.253\n",
      "Successfully installed botocore-1.38.27\n"
     ]
    }
   ],
   "source": [
    "pip install s3fs\n"
   ]
  },
  {
   "cell_type": "code",
   "execution_count": 21,
   "id": "06fbbb68",
   "metadata": {},
   "outputs": [
    {
     "name": "stdout",
     "output_type": "stream",
     "text": [
      "Collecting s3fs==2024.3.1Note: you may need to restart the kernel to use updated packages.\n"
     ]
    },
    {
     "name": "stderr",
     "output_type": "stream",
     "text": [
      "ERROR: pip's dependency resolver does not currently take into account all the packages that are installed. This behaviour is the source of the following dependency conflicts.\n",
      "boto3 1.9.253 requires botocore<1.13.0,>=1.12.253, but you have botocore 1.34.52 which is incompatible.\n",
      "\n",
      "[notice] A new release of pip is available: 25.0.1 -> 25.1.1\n",
      "[notice] To update, run: python.exe -m pip install --upgrade pip\n"
     ]
    },
    {
     "name": "stdout",
     "output_type": "stream",
     "text": [
      "\n",
      "  Downloading s3fs-2024.3.1-py3-none-any.whl.metadata (1.6 kB)\n",
      "Collecting aiobotocore==2.12.3\n",
      "  Downloading aiobotocore-2.12.3-py3-none-any.whl.metadata (21 kB)\n",
      "Collecting botocore==1.34.52\n",
      "  Downloading botocore-1.34.52-py3-none-any.whl.metadata (5.7 kB)\n",
      "Collecting fsspec==2024.3.1\n",
      "  Downloading fsspec-2024.3.1-py3-none-any.whl.metadata (6.8 kB)\n",
      "Requirement already satisfied: aiohttp!=4.0.0a0,!=4.0.0a1 in c:\\users\\pmls\\appdata\\local\\programs\\python\\python313\\lib\\site-packages (from s3fs==2024.3.1) (3.12.13)\n",
      "Requirement already satisfied: wrapt<2.0.0,>=1.10.10 in c:\\users\\pmls\\appdata\\local\\programs\\python\\python313\\lib\\site-packages (from aiobotocore==2.12.3) (1.17.2)\n",
      "Requirement already satisfied: aioitertools<1.0.0,>=0.5.1 in c:\\users\\pmls\\appdata\\local\\programs\\python\\python313\\lib\\site-packages (from aiobotocore==2.12.3) (0.12.0)\n",
      "Requirement already satisfied: jmespath<2.0.0,>=0.7.1 in c:\\users\\pmls\\appdata\\local\\programs\\python\\python313\\lib\\site-packages (from botocore==1.34.52) (0.10.0)\n",
      "Requirement already satisfied: python-dateutil<3.0.0,>=2.1 in c:\\users\\pmls\\appdata\\local\\programs\\python\\python313\\lib\\site-packages (from botocore==1.34.52) (2.9.0.post0)\n",
      "Requirement already satisfied: urllib3<2.1,>=1.25.4 in c:\\users\\pmls\\appdata\\local\\programs\\python\\python313\\lib\\site-packages (from botocore==1.34.52) (1.25.11)\n",
      "Requirement already satisfied: aiohappyeyeballs>=2.5.0 in c:\\users\\pmls\\appdata\\local\\programs\\python\\python313\\lib\\site-packages (from aiohttp!=4.0.0a0,!=4.0.0a1->s3fs==2024.3.1) (2.6.1)\n",
      "Requirement already satisfied: aiosignal>=1.1.2 in c:\\users\\pmls\\appdata\\local\\programs\\python\\python313\\lib\\site-packages (from aiohttp!=4.0.0a0,!=4.0.0a1->s3fs==2024.3.1) (1.3.2)\n",
      "Requirement already satisfied: attrs>=17.3.0 in c:\\users\\pmls\\appdata\\local\\programs\\python\\python313\\lib\\site-packages (from aiohttp!=4.0.0a0,!=4.0.0a1->s3fs==2024.3.1) (24.2.0)\n",
      "Requirement already satisfied: frozenlist>=1.1.1 in c:\\users\\pmls\\appdata\\local\\programs\\python\\python313\\lib\\site-packages (from aiohttp!=4.0.0a0,!=4.0.0a1->s3fs==2024.3.1) (1.7.0)\n",
      "Requirement already satisfied: multidict<7.0,>=4.5 in c:\\users\\pmls\\appdata\\local\\programs\\python\\python313\\lib\\site-packages (from aiohttp!=4.0.0a0,!=4.0.0a1->s3fs==2024.3.1) (6.4.4)\n",
      "Requirement already satisfied: propcache>=0.2.0 in c:\\users\\pmls\\appdata\\local\\programs\\python\\python313\\lib\\site-packages (from aiohttp!=4.0.0a0,!=4.0.0a1->s3fs==2024.3.1) (0.3.2)\n",
      "Requirement already satisfied: yarl<2.0,>=1.17.0 in c:\\users\\pmls\\appdata\\local\\programs\\python\\python313\\lib\\site-packages (from aiohttp!=4.0.0a0,!=4.0.0a1->s3fs==2024.3.1) (1.20.1)\n",
      "Requirement already satisfied: six>=1.5 in c:\\users\\pmls\\appdata\\local\\programs\\python\\python313\\lib\\site-packages (from python-dateutil<3.0.0,>=2.1->botocore==1.34.52) (1.16.0)\n",
      "Requirement already satisfied: idna>=2.0 in c:\\users\\pmls\\appdata\\local\\programs\\python\\python313\\lib\\site-packages (from yarl<2.0,>=1.17.0->aiohttp!=4.0.0a0,!=4.0.0a1->s3fs==2024.3.1) (3.10)\n",
      "Downloading s3fs-2024.3.1-py3-none-any.whl (29 kB)\n",
      "Downloading aiobotocore-2.12.3-py3-none-any.whl (76 kB)\n",
      "Downloading botocore-1.34.52-py3-none-any.whl (12.0 MB)\n",
      "   ---------------------------------------- 0.0/12.0 MB ? eta -:--:--\n",
      "   ---------------------------------------- 0.0/12.0 MB ? eta -:--:--\n",
      "    --------------------------------------- 0.3/12.0 MB ? eta -:--:--\n",
      "   -- ------------------------------------- 0.8/12.0 MB 1.4 MB/s eta 0:00:08\n",
      "   ----- ---------------------------------- 1.6/12.0 MB 2.1 MB/s eta 0:00:05\n",
      "   ------ --------------------------------- 1.8/12.0 MB 1.9 MB/s eta 0:00:06\n",
      "   ------ --------------------------------- 2.1/12.0 MB 1.9 MB/s eta 0:00:06\n",
      "   ------- -------------------------------- 2.4/12.0 MB 2.0 MB/s eta 0:00:05\n",
      "   ---------- ----------------------------- 3.1/12.0 MB 2.1 MB/s eta 0:00:05\n",
      "   ------------- -------------------------- 3.9/12.0 MB 2.3 MB/s eta 0:00:04\n",
      "   ------------- -------------------------- 3.9/12.0 MB 2.3 MB/s eta 0:00:04\n",
      "   ------------- -------------------------- 3.9/12.0 MB 2.3 MB/s eta 0:00:04\n",
      "   ------------- -------------------------- 4.2/12.0 MB 1.8 MB/s eta 0:00:05\n",
      "   ---------------- ----------------------- 5.0/12.0 MB 1.9 MB/s eta 0:00:04\n",
      "   ----------------- ---------------------- 5.2/12.0 MB 1.9 MB/s eta 0:00:04\n",
      "   ----------------- ---------------------- 5.2/12.0 MB 1.9 MB/s eta 0:00:04\n",
      "   ----------------- ---------------------- 5.2/12.0 MB 1.9 MB/s eta 0:00:04\n",
      "   ----------------- ---------------------- 5.2/12.0 MB 1.9 MB/s eta 0:00:04\n",
      "   ----------------- ---------------------- 5.2/12.0 MB 1.9 MB/s eta 0:00:04\n",
      "   ----------------- ---------------------- 5.2/12.0 MB 1.9 MB/s eta 0:00:04\n",
      "   ----------------- ---------------------- 5.2/12.0 MB 1.9 MB/s eta 0:00:04\n",
      "   ------------------ --------------------- 5.5/12.0 MB 1.3 MB/s eta 0:00:06\n",
      "   ------------------- -------------------- 5.8/12.0 MB 1.3 MB/s eta 0:00:05\n",
      "   ------------------- -------------------- 5.8/12.0 MB 1.3 MB/s eta 0:00:05\n",
      "   -------------------- ------------------- 6.3/12.0 MB 1.3 MB/s eta 0:00:05\n",
      "   --------------------- ------------------ 6.6/12.0 MB 1.3 MB/s eta 0:00:05\n",
      "   --------------------- ------------------ 6.6/12.0 MB 1.3 MB/s eta 0:00:05\n",
      "   --------------------- ------------------ 6.6/12.0 MB 1.3 MB/s eta 0:00:05\n",
      "   --------------------- ------------------ 6.6/12.0 MB 1.3 MB/s eta 0:00:05\n",
      "   --------------------- ------------------ 6.6/12.0 MB 1.3 MB/s eta 0:00:05\n",
      "   --------------------- ------------------ 6.6/12.0 MB 1.3 MB/s eta 0:00:05\n",
      "   --------------------- ------------------ 6.6/12.0 MB 1.3 MB/s eta 0:00:05\n",
      "   --------------------- ------------------ 6.6/12.0 MB 1.3 MB/s eta 0:00:05\n",
      "   --------------------- ------------------ 6.6/12.0 MB 1.3 MB/s eta 0:00:05\n",
      "   --------------------- ------------------ 6.6/12.0 MB 1.3 MB/s eta 0:00:05\n",
      "   --------------------- ------------------ 6.6/12.0 MB 1.3 MB/s eta 0:00:05\n",
      "   --------------------- ------------------ 6.6/12.0 MB 1.3 MB/s eta 0:00:05\n",
      "   --------------------- ------------------ 6.6/12.0 MB 1.3 MB/s eta 0:00:05\n",
      "   --------------------- ------------------ 6.6/12.0 MB 1.3 MB/s eta 0:00:05\n",
      "   --------------------- ------------------ 6.6/12.0 MB 1.3 MB/s eta 0:00:05\n",
      "   --------------------- ------------------ 6.6/12.0 MB 1.3 MB/s eta 0:00:05\n",
      "   --------------------- ------------------ 6.6/12.0 MB 1.3 MB/s eta 0:00:05\n",
      "   --------------------- ------------------ 6.6/12.0 MB 1.3 MB/s eta 0:00:05\n",
      "   --------------------- ------------------ 6.6/12.0 MB 1.3 MB/s eta 0:00:05\n",
      "   --------------------- ------------------ 6.6/12.0 MB 1.3 MB/s eta 0:00:05\n",
      "   --------------------- ------------------ 6.6/12.0 MB 1.3 MB/s eta 0:00:05\n",
      "   --------------------- ------------------ 6.6/12.0 MB 1.3 MB/s eta 0:00:05\n",
      "   --------------------- ------------------ 6.6/12.0 MB 1.3 MB/s eta 0:00:05\n",
      "   --------------------- ------------------ 6.6/12.0 MB 1.3 MB/s eta 0:00:05\n",
      "   --------------------- ------------------ 6.6/12.0 MB 1.3 MB/s eta 0:00:05\n",
      "   --------------------- ------------------ 6.6/12.0 MB 1.3 MB/s eta 0:00:05\n",
      "   ---------------------- ----------------- 6.8/12.0 MB 641.5 kB/s eta 0:00:09\n",
      "   ---------------------- ----------------- 6.8/12.0 MB 641.5 kB/s eta 0:00:09\n",
      "   ---------------------- ----------------- 6.8/12.0 MB 641.5 kB/s eta 0:00:09\n",
      "   ---------------------- ----------------- 6.8/12.0 MB 641.5 kB/s eta 0:00:09\n",
      "   ---------------------- ----------------- 6.8/12.0 MB 641.5 kB/s eta 0:00:09\n",
      "   ---------------------- ----------------- 6.8/12.0 MB 641.5 kB/s eta 0:00:09\n",
      "   ---------------------- ----------------- 6.8/12.0 MB 641.5 kB/s eta 0:00:09\n",
      "   ---------------------- ----------------- 6.8/12.0 MB 641.5 kB/s eta 0:00:09\n",
      "   ---------------------- ----------------- 6.8/12.0 MB 641.5 kB/s eta 0:00:09\n",
      "   ---------------------- ----------------- 6.8/12.0 MB 641.5 kB/s eta 0:00:09\n",
      "   ---------------------- ----------------- 6.8/12.0 MB 641.5 kB/s eta 0:00:09\n",
      "   ---------------------- ----------------- 6.8/12.0 MB 641.5 kB/s eta 0:00:09\n",
      "   ---------------------- ----------------- 6.8/12.0 MB 641.5 kB/s eta 0:00:09\n",
      "   ---------------------- ----------------- 6.8/12.0 MB 641.5 kB/s eta 0:00:09\n",
      "   ---------------------- ----------------- 6.8/12.0 MB 641.5 kB/s eta 0:00:09\n",
      "   ---------------------- ----------------- 6.8/12.0 MB 641.5 kB/s eta 0:00:09\n",
      "   ---------------------- ----------------- 6.8/12.0 MB 641.5 kB/s eta 0:00:09\n",
      "   ---------------------- ----------------- 6.8/12.0 MB 641.5 kB/s eta 0:00:09\n",
      "   ---------------------- ----------------- 6.8/12.0 MB 641.5 kB/s eta 0:00:09\n",
      "   ---------------------- ----------------- 6.8/12.0 MB 641.5 kB/s eta 0:00:09\n",
      "   ---------------------- ----------------- 6.8/12.0 MB 641.5 kB/s eta 0:00:09\n",
      "   ---------------------- ----------------- 6.8/12.0 MB 641.5 kB/s eta 0:00:09\n",
      "   ---------------------- ----------------- 6.8/12.0 MB 641.5 kB/s eta 0:00:09\n",
      "   ---------------------- ----------------- 6.8/12.0 MB 641.5 kB/s eta 0:00:09\n",
      "   ----------------------- ---------------- 7.1/12.0 MB 442.4 kB/s eta 0:00:12\n",
      "   ----------------------- ---------------- 7.1/12.0 MB 442.4 kB/s eta 0:00:12\n",
      "   ----------------------- ---------------- 7.1/12.0 MB 442.4 kB/s eta 0:00:12\n",
      "   ------------------------ --------------- 7.3/12.0 MB 439.9 kB/s eta 0:00:11\n",
      "   ------------------------ --------------- 7.3/12.0 MB 439.9 kB/s eta 0:00:11\n",
      "   ------------------------- -------------- 7.6/12.0 MB 442.9 kB/s eta 0:00:10\n",
      "   ------------------------- -------------- 7.6/12.0 MB 442.9 kB/s eta 0:00:10\n",
      "   --------------------------- ------------ 8.1/12.0 MB 463.3 kB/s eta 0:00:09\n",
      "   ---------------------------- ----------- 8.7/12.0 MB 490.3 kB/s eta 0:00:07\n",
      "   ---------------------------- ----------- 8.7/12.0 MB 490.3 kB/s eta 0:00:07\n",
      "   ----------------------------- ---------- 8.9/12.0 MB 490.6 kB/s eta 0:00:07\n",
      "   ------------------------------ --------- 9.2/12.0 MB 503.2 kB/s eta 0:00:06\n",
      "   ------------------------------- -------- 9.4/12.0 MB 511.4 kB/s eta 0:00:05\n",
      "   ------------------------------- -------- 9.4/12.0 MB 511.4 kB/s eta 0:00:05\n",
      "   -------------------------------- ------- 9.7/12.0 MB 511.7 kB/s eta 0:00:05\n",
      "   --------------------------------- ------ 10.0/12.0 MB 524.0 kB/s eta 0:00:04\n",
      "   --------------------------------- ------ 10.0/12.0 MB 524.0 kB/s eta 0:00:04\n",
      "   --------------------------------- ------ 10.0/12.0 MB 524.0 kB/s eta 0:00:04\n",
      "   --------------------------------- ------ 10.0/12.0 MB 524.0 kB/s eta 0:00:04\n",
      "   ---------------------------------- ----- 10.2/12.0 MB 511.1 kB/s eta 0:00:04\n",
      "   ---------------------------------- ----- 10.5/12.0 MB 520.7 kB/s eta 0:00:03\n",
      "   ---------------------------------- ----- 10.5/12.0 MB 520.7 kB/s eta 0:00:03\n",
      "   ---------------------------------- ----- 10.5/12.0 MB 520.7 kB/s eta 0:00:03\n",
      "   ---------------------------------- ----- 10.5/12.0 MB 520.7 kB/s eta 0:00:03\n",
      "   ---------------------------------- ----- 10.5/12.0 MB 520.7 kB/s eta 0:00:03\n",
      "   ---------------------------------- ----- 10.5/12.0 MB 520.7 kB/s eta 0:00:03\n",
      "   ----------------------------------- ---- 10.7/12.0 MB 499.7 kB/s eta 0:00:03\n",
      "   ------------------------------------ --- 11.0/12.0 MB 507.4 kB/s eta 0:00:02\n",
      "   ------------------------------------ --- 11.0/12.0 MB 507.4 kB/s eta 0:00:02\n",
      "   ------------------------------------- -- 11.3/12.0 MB 511.3 kB/s eta 0:00:02\n",
      "   -------------------------------------- - 11.5/12.0 MB 518.9 kB/s eta 0:00:01\n",
      "   -------------------------------------- - 11.5/12.0 MB 518.9 kB/s eta 0:00:01\n",
      "   ---------------------------------------- 12.0/12.0 MB 528.2 kB/s eta 0:00:00\n",
      "Downloading fsspec-2024.3.1-py3-none-any.whl (171 kB)\n",
      "Installing collected packages: fsspec, botocore, aiobotocore, s3fs\n",
      "  Attempting uninstall: fsspec\n",
      "    Found existing installation: fsspec 2025.5.1\n",
      "    Uninstalling fsspec-2025.5.1:\n",
      "      Successfully uninstalled fsspec-2025.5.1\n",
      "  Attempting uninstall: botocore\n",
      "    Found existing installation: botocore 1.38.27\n",
      "    Uninstalling botocore-1.38.27:\n",
      "      Successfully uninstalled botocore-1.38.27\n",
      "  Attempting uninstall: aiobotocore\n",
      "    Found existing installation: aiobotocore 2.23.0\n",
      "    Uninstalling aiobotocore-2.23.0:\n",
      "      Successfully uninstalled aiobotocore-2.23.0\n",
      "  Attempting uninstall: s3fs\n",
      "    Found existing installation: s3fs 2025.5.1\n",
      "    Uninstalling s3fs-2025.5.1:\n",
      "      Successfully uninstalled s3fs-2025.5.1\n",
      "Successfully installed aiobotocore-2.12.3 botocore-1.34.52 fsspec-2024.3.1 s3fs-2024.3.1\n"
     ]
    }
   ],
   "source": [
    "pip install s3fs==2024.3.1 aiobotocore==2.12.3 botocore==1.34.52 fsspec==2024.3.1\n"
   ]
  },
  {
   "cell_type": "code",
   "execution_count": 12,
   "id": "b6675043",
   "metadata": {},
   "outputs": [
    {
     "ename": "ModuleNotFoundError",
     "evalue": "No module named 'urllib3.packages.six.moves'",
     "output_type": "error",
     "traceback": [
      "\u001b[1;31m---------------------------------------------------------------------------\u001b[0m",
      "\u001b[1;31mModuleNotFoundError\u001b[0m                       Traceback (most recent call last)",
      "Cell \u001b[1;32mIn[12], line 5\u001b[0m\n\u001b[0;32m      3\u001b[0m \u001b[38;5;28;01mfrom\u001b[39;00m \u001b[38;5;21;01mjson\u001b[39;00m \u001b[38;5;28;01mimport\u001b[39;00m dumps,loads\n\u001b[0;32m      4\u001b[0m \u001b[38;5;28;01mimport\u001b[39;00m \u001b[38;5;21;01mjson\u001b[39;00m\n\u001b[1;32m----> 5\u001b[0m \u001b[38;5;28;01mfrom\u001b[39;00m \u001b[38;5;21;01ms3fs\u001b[39;00m \u001b[38;5;28;01mimport\u001b[39;00m S3FileSystem\n",
      "File \u001b[1;32mc:\\Users\\PMLS\\AppData\\Local\\Programs\\Python\\Python313\\Lib\\site-packages\\s3fs\\__init__.py:1\u001b[0m\n\u001b[1;32m----> 1\u001b[0m \u001b[38;5;28;01mfrom\u001b[39;00m \u001b[38;5;21;01m.\u001b[39;00m\u001b[38;5;21;01mcore\u001b[39;00m \u001b[38;5;28;01mimport\u001b[39;00m S3FileSystem, S3File\n\u001b[0;32m      2\u001b[0m \u001b[38;5;28;01mfrom\u001b[39;00m \u001b[38;5;21;01m.\u001b[39;00m\u001b[38;5;21;01mmapping\u001b[39;00m \u001b[38;5;28;01mimport\u001b[39;00m S3Map\n\u001b[0;32m      4\u001b[0m \u001b[38;5;28;01mfrom\u001b[39;00m \u001b[38;5;21;01m.\u001b[39;00m\u001b[38;5;21;01m_version\u001b[39;00m \u001b[38;5;28;01mimport\u001b[39;00m get_versions\n",
      "File \u001b[1;32mc:\\Users\\PMLS\\AppData\\Local\\Programs\\Python\\Python313\\Lib\\site-packages\\s3fs\\core.py:12\u001b[0m\n\u001b[0;32m      9\u001b[0m \u001b[38;5;28;01mimport\u001b[39;00m \u001b[38;5;21;01mweakref\u001b[39;00m\n\u001b[0;32m     10\u001b[0m \u001b[38;5;28;01mimport\u001b[39;00m \u001b[38;5;21;01mre\u001b[39;00m\n\u001b[1;32m---> 12\u001b[0m \u001b[38;5;28;01mfrom\u001b[39;00m \u001b[38;5;21;01murllib3\u001b[39;00m\u001b[38;5;21;01m.\u001b[39;00m\u001b[38;5;21;01mexceptions\u001b[39;00m \u001b[38;5;28;01mimport\u001b[39;00m IncompleteRead\n\u001b[0;32m     14\u001b[0m \u001b[38;5;28;01mimport\u001b[39;00m \u001b[38;5;21;01mfsspec\u001b[39;00m  \u001b[38;5;66;03m# noqa: F401\u001b[39;00m\n\u001b[0;32m     15\u001b[0m \u001b[38;5;28;01mfrom\u001b[39;00m \u001b[38;5;21;01mfsspec\u001b[39;00m\u001b[38;5;21;01m.\u001b[39;00m\u001b[38;5;21;01mspec\u001b[39;00m \u001b[38;5;28;01mimport\u001b[39;00m AbstractBufferedFile\n",
      "File \u001b[1;32mc:\\Users\\PMLS\\AppData\\Local\\Programs\\Python\\Python313\\Lib\\site-packages\\urllib3\\__init__.py:7\u001b[0m\n\u001b[0;32m      4\u001b[0m \u001b[38;5;28;01mfrom\u001b[39;00m \u001b[38;5;21;01m__future__\u001b[39;00m \u001b[38;5;28;01mimport\u001b[39;00m absolute_import\n\u001b[0;32m      5\u001b[0m \u001b[38;5;28;01mimport\u001b[39;00m \u001b[38;5;21;01mwarnings\u001b[39;00m\n\u001b[1;32m----> 7\u001b[0m \u001b[38;5;28;01mfrom\u001b[39;00m \u001b[38;5;21;01m.\u001b[39;00m\u001b[38;5;21;01mconnectionpool\u001b[39;00m \u001b[38;5;28;01mimport\u001b[39;00m HTTPConnectionPool, HTTPSConnectionPool, connection_from_url\n\u001b[0;32m      9\u001b[0m \u001b[38;5;28;01mfrom\u001b[39;00m \u001b[38;5;21;01m.\u001b[39;00m \u001b[38;5;28;01mimport\u001b[39;00m exceptions\n\u001b[0;32m     10\u001b[0m \u001b[38;5;28;01mfrom\u001b[39;00m \u001b[38;5;21;01m.\u001b[39;00m\u001b[38;5;21;01mfilepost\u001b[39;00m \u001b[38;5;28;01mimport\u001b[39;00m encode_multipart_formdata\n",
      "File \u001b[1;32mc:\\Users\\PMLS\\AppData\\Local\\Programs\\Python\\Python313\\Lib\\site-packages\\urllib3\\connectionpool.py:11\u001b[0m\n\u001b[0;32m      7\u001b[0m \u001b[38;5;28;01mfrom\u001b[39;00m \u001b[38;5;21;01msocket\u001b[39;00m \u001b[38;5;28;01mimport\u001b[39;00m error \u001b[38;5;28;01mas\u001b[39;00m SocketError, timeout \u001b[38;5;28;01mas\u001b[39;00m SocketTimeout\n\u001b[0;32m      8\u001b[0m \u001b[38;5;28;01mimport\u001b[39;00m \u001b[38;5;21;01msocket\u001b[39;00m\n\u001b[1;32m---> 11\u001b[0m \u001b[38;5;28;01mfrom\u001b[39;00m \u001b[38;5;21;01m.\u001b[39;00m\u001b[38;5;21;01mexceptions\u001b[39;00m \u001b[38;5;28;01mimport\u001b[39;00m (\n\u001b[0;32m     12\u001b[0m     ClosedPoolError,\n\u001b[0;32m     13\u001b[0m     ProtocolError,\n\u001b[0;32m     14\u001b[0m     EmptyPoolError,\n\u001b[0;32m     15\u001b[0m     HeaderParsingError,\n\u001b[0;32m     16\u001b[0m     HostChangedError,\n\u001b[0;32m     17\u001b[0m     LocationValueError,\n\u001b[0;32m     18\u001b[0m     MaxRetryError,\n\u001b[0;32m     19\u001b[0m     ProxyError,\n\u001b[0;32m     20\u001b[0m     ReadTimeoutError,\n\u001b[0;32m     21\u001b[0m     SSLError,\n\u001b[0;32m     22\u001b[0m     \u001b[38;5;167;01mTimeoutError\u001b[39;00m,\n\u001b[0;32m     23\u001b[0m     InsecureRequestWarning,\n\u001b[0;32m     24\u001b[0m     NewConnectionError,\n\u001b[0;32m     25\u001b[0m )\n\u001b[0;32m     26\u001b[0m \u001b[38;5;28;01mfrom\u001b[39;00m \u001b[38;5;21;01m.\u001b[39;00m\u001b[38;5;21;01mpackages\u001b[39;00m\u001b[38;5;21;01m.\u001b[39;00m\u001b[38;5;21;01mssl_match_hostname\u001b[39;00m \u001b[38;5;28;01mimport\u001b[39;00m CertificateError\n\u001b[0;32m     27\u001b[0m \u001b[38;5;28;01mfrom\u001b[39;00m \u001b[38;5;21;01m.\u001b[39;00m\u001b[38;5;21;01mpackages\u001b[39;00m \u001b[38;5;28;01mimport\u001b[39;00m six\n",
      "File \u001b[1;32mc:\\Users\\PMLS\\AppData\\Local\\Programs\\Python\\Python313\\Lib\\site-packages\\urllib3\\exceptions.py:2\u001b[0m\n\u001b[0;32m      1\u001b[0m \u001b[38;5;28;01mfrom\u001b[39;00m \u001b[38;5;21;01m__future__\u001b[39;00m \u001b[38;5;28;01mimport\u001b[39;00m absolute_import\n\u001b[1;32m----> 2\u001b[0m \u001b[38;5;28;01mfrom\u001b[39;00m \u001b[38;5;21;01m.\u001b[39;00m\u001b[38;5;21;01mpackages\u001b[39;00m\u001b[38;5;21;01m.\u001b[39;00m\u001b[38;5;21;01msix\u001b[39;00m\u001b[38;5;21;01m.\u001b[39;00m\u001b[38;5;21;01mmoves\u001b[39;00m\u001b[38;5;21;01m.\u001b[39;00m\u001b[38;5;21;01mhttp_client\u001b[39;00m \u001b[38;5;28;01mimport\u001b[39;00m IncompleteRead \u001b[38;5;28;01mas\u001b[39;00m httplib_IncompleteRead\n\u001b[0;32m      4\u001b[0m \u001b[38;5;66;03m# Base Exceptions\u001b[39;00m\n\u001b[0;32m      7\u001b[0m \u001b[38;5;28;01mclass\u001b[39;00m \u001b[38;5;21;01mHTTPError\u001b[39;00m(\u001b[38;5;167;01mException\u001b[39;00m):\n",
      "\u001b[1;31mModuleNotFoundError\u001b[0m: No module named 'urllib3.packages.six.moves'"
     ]
    }
   ],
   "source": [
    "from kafka import KafkaConsumer\n",
    "from time import sleep\n",
    "from json import dumps,loads\n",
    "import json\n",
    "from s3fs import S3FileSystem"
   ]
  },
  {
   "cell_type": "code",
   "execution_count": 10,
   "id": "9eeff3ef",
   "metadata": {},
   "outputs": [],
   "source": [
    "consumer = KafkaConsumer(\n",
    "    'demo_testing2',\n",
    "     bootstrap_servers=['54.89.210.132:9092'], #add your IP here\n",
    "    value_deserializer=lambda x: loads(x.decode('utf-8')))"
   ]
  },
  {
   "cell_type": "code",
   "execution_count": 11,
   "id": "eda5a608",
   "metadata": {},
   "outputs": [
    {
     "name": "stdout",
     "output_type": "stream",
     "text": [
      "{'tes': '1'}\n"
     ]
    },
    {
     "ename": "KeyboardInterrupt",
     "evalue": "",
     "output_type": "error",
     "traceback": [
      "\u001b[1;31m---------------------------------------------------------------------------\u001b[0m",
      "\u001b[1;31mKeyboardInterrupt\u001b[0m                         Traceback (most recent call last)",
      "Cell \u001b[1;32mIn[11], line 1\u001b[0m\n\u001b[1;32m----> 1\u001b[0m \u001b[38;5;28;43;01mfor\u001b[39;49;00m\u001b[43m \u001b[49m\u001b[43mc\u001b[49m\u001b[43m \u001b[49m\u001b[38;5;129;43;01min\u001b[39;49;00m\u001b[43m \u001b[49m\u001b[43mconsumer\u001b[49m\u001b[43m:\u001b[49m\n\u001b[0;32m      2\u001b[0m \u001b[43m    \u001b[49m\u001b[38;5;28;43mprint\u001b[39;49m\u001b[43m(\u001b[49m\u001b[43mc\u001b[49m\u001b[38;5;241;43m.\u001b[39;49m\u001b[43mvalue\u001b[49m\u001b[43m)\u001b[49m\n",
      "File \u001b[1;32mc:\\Users\\PMLS\\AppData\\Local\\Programs\\Python\\Python313\\Lib\\site-packages\\kafka\\consumer\\group.py:1188\u001b[0m, in \u001b[0;36mKafkaConsumer.__next__\u001b[1;34m(self)\u001b[0m\n\u001b[0;32m   1186\u001b[0m     \u001b[38;5;28mself\u001b[39m\u001b[38;5;241m.\u001b[39m_iterator \u001b[38;5;241m=\u001b[39m \u001b[38;5;28mself\u001b[39m\u001b[38;5;241m.\u001b[39m_message_generator_v2()\n\u001b[0;32m   1187\u001b[0m \u001b[38;5;28;01mtry\u001b[39;00m:\n\u001b[1;32m-> 1188\u001b[0m     \u001b[38;5;28;01mreturn\u001b[39;00m \u001b[38;5;28;43mnext\u001b[39;49m\u001b[43m(\u001b[49m\u001b[38;5;28;43mself\u001b[39;49m\u001b[38;5;241;43m.\u001b[39;49m\u001b[43m_iterator\u001b[49m\u001b[43m)\u001b[49m\n\u001b[0;32m   1189\u001b[0m \u001b[38;5;28;01mexcept\u001b[39;00m \u001b[38;5;167;01mStopIteration\u001b[39;00m:\n\u001b[0;32m   1190\u001b[0m     \u001b[38;5;28mself\u001b[39m\u001b[38;5;241m.\u001b[39m_iterator \u001b[38;5;241m=\u001b[39m \u001b[38;5;28;01mNone\u001b[39;00m\n",
      "File \u001b[1;32mc:\\Users\\PMLS\\AppData\\Local\\Programs\\Python\\Python313\\Lib\\site-packages\\kafka\\consumer\\group.py:1160\u001b[0m, in \u001b[0;36mKafkaConsumer._message_generator_v2\u001b[1;34m(self)\u001b[0m\n\u001b[0;32m   1158\u001b[0m \u001b[38;5;28;01mdef\u001b[39;00m \u001b[38;5;21m_message_generator_v2\u001b[39m(\u001b[38;5;28mself\u001b[39m):\n\u001b[0;32m   1159\u001b[0m     timeout_ms \u001b[38;5;241m=\u001b[39m \u001b[38;5;241m1000\u001b[39m \u001b[38;5;241m*\u001b[39m \u001b[38;5;28mmax\u001b[39m(\u001b[38;5;241m0\u001b[39m, \u001b[38;5;28mself\u001b[39m\u001b[38;5;241m.\u001b[39m_consumer_timeout \u001b[38;5;241m-\u001b[39m time\u001b[38;5;241m.\u001b[39mtime())\n\u001b[1;32m-> 1160\u001b[0m     record_map \u001b[38;5;241m=\u001b[39m \u001b[38;5;28;43mself\u001b[39;49m\u001b[38;5;241;43m.\u001b[39;49m\u001b[43mpoll\u001b[49m\u001b[43m(\u001b[49m\u001b[43mtimeout_ms\u001b[49m\u001b[38;5;241;43m=\u001b[39;49m\u001b[43mtimeout_ms\u001b[49m\u001b[43m,\u001b[49m\u001b[43m \u001b[49m\u001b[43mupdate_offsets\u001b[49m\u001b[38;5;241;43m=\u001b[39;49m\u001b[38;5;28;43;01mFalse\u001b[39;49;00m\u001b[43m)\u001b[49m\n\u001b[0;32m   1161\u001b[0m     \u001b[38;5;28;01mfor\u001b[39;00m tp, records \u001b[38;5;129;01min\u001b[39;00m six\u001b[38;5;241m.\u001b[39miteritems(record_map):\n\u001b[0;32m   1162\u001b[0m         \u001b[38;5;66;03m# Generators are stateful, and it is possible that the tp / records\u001b[39;00m\n\u001b[0;32m   1163\u001b[0m         \u001b[38;5;66;03m# here may become stale during iteration -- i.e., we seek to a\u001b[39;00m\n\u001b[0;32m   1164\u001b[0m         \u001b[38;5;66;03m# different offset, pause consumption, or lose assignment.\u001b[39;00m\n\u001b[0;32m   1165\u001b[0m         \u001b[38;5;28;01mfor\u001b[39;00m record \u001b[38;5;129;01min\u001b[39;00m records:\n\u001b[0;32m   1166\u001b[0m             \u001b[38;5;66;03m# is_fetchable(tp) should handle assignment changes and offset\u001b[39;00m\n\u001b[0;32m   1167\u001b[0m             \u001b[38;5;66;03m# resets; for all other changes (e.g., seeks) we'll rely on the\u001b[39;00m\n\u001b[0;32m   1168\u001b[0m             \u001b[38;5;66;03m# outer function destroying the existing iterator/generator\u001b[39;00m\n\u001b[0;32m   1169\u001b[0m             \u001b[38;5;66;03m# via self._iterator = None\u001b[39;00m\n",
      "File \u001b[1;32mc:\\Users\\PMLS\\AppData\\Local\\Programs\\Python\\Python313\\Lib\\site-packages\\kafka\\consumer\\group.py:684\u001b[0m, in \u001b[0;36mKafkaConsumer.poll\u001b[1;34m(self, timeout_ms, max_records, update_offsets)\u001b[0m\n\u001b[0;32m    682\u001b[0m timer \u001b[38;5;241m=\u001b[39m Timer(timeout_ms)\n\u001b[0;32m    683\u001b[0m \u001b[38;5;28;01mwhile\u001b[39;00m \u001b[38;5;129;01mnot\u001b[39;00m \u001b[38;5;28mself\u001b[39m\u001b[38;5;241m.\u001b[39m_closed:\n\u001b[1;32m--> 684\u001b[0m     records \u001b[38;5;241m=\u001b[39m \u001b[38;5;28;43mself\u001b[39;49m\u001b[38;5;241;43m.\u001b[39;49m\u001b[43m_poll_once\u001b[49m\u001b[43m(\u001b[49m\u001b[43mtimer\u001b[49m\u001b[43m,\u001b[49m\u001b[43m \u001b[49m\u001b[43mmax_records\u001b[49m\u001b[43m,\u001b[49m\u001b[43m \u001b[49m\u001b[43mupdate_offsets\u001b[49m\u001b[38;5;241;43m=\u001b[39;49m\u001b[43mupdate_offsets\u001b[49m\u001b[43m)\u001b[49m\n\u001b[0;32m    685\u001b[0m     \u001b[38;5;28;01mif\u001b[39;00m records:\n\u001b[0;32m    686\u001b[0m         \u001b[38;5;28;01mreturn\u001b[39;00m records\n",
      "File \u001b[1;32mc:\\Users\\PMLS\\AppData\\Local\\Programs\\Python\\Python313\\Lib\\site-packages\\kafka\\consumer\\group.py:731\u001b[0m, in \u001b[0;36mKafkaConsumer._poll_once\u001b[1;34m(self, timer, max_records, update_offsets)\u001b[0m\n\u001b[0;32m    728\u001b[0m     log\u001b[38;5;241m.\u001b[39mdebug(\u001b[38;5;124m'\u001b[39m\u001b[38;5;124mpoll: do not have all fetch positions...\u001b[39m\u001b[38;5;124m'\u001b[39m)\n\u001b[0;32m    729\u001b[0m     poll_timeout_ms \u001b[38;5;241m=\u001b[39m \u001b[38;5;28mmin\u001b[39m(poll_timeout_ms, \u001b[38;5;28mself\u001b[39m\u001b[38;5;241m.\u001b[39mconfig[\u001b[38;5;124m'\u001b[39m\u001b[38;5;124mretry_backoff_ms\u001b[39m\u001b[38;5;124m'\u001b[39m])\n\u001b[1;32m--> 731\u001b[0m \u001b[38;5;28;43mself\u001b[39;49m\u001b[38;5;241;43m.\u001b[39;49m\u001b[43m_client\u001b[49m\u001b[38;5;241;43m.\u001b[39;49m\u001b[43mpoll\u001b[49m\u001b[43m(\u001b[49m\u001b[43mtimeout_ms\u001b[49m\u001b[38;5;241;43m=\u001b[39;49m\u001b[43mpoll_timeout_ms\u001b[49m\u001b[43m)\u001b[49m\n\u001b[0;32m    732\u001b[0m \u001b[38;5;66;03m# after the long poll, we should check whether the group needs to rebalance\u001b[39;00m\n\u001b[0;32m    733\u001b[0m \u001b[38;5;66;03m# prior to returning data so that the group can stabilize faster\u001b[39;00m\n\u001b[0;32m    734\u001b[0m \u001b[38;5;28;01mif\u001b[39;00m \u001b[38;5;28mself\u001b[39m\u001b[38;5;241m.\u001b[39m_coordinator\u001b[38;5;241m.\u001b[39mneed_rejoin():\n",
      "File \u001b[1;32mc:\\Users\\PMLS\\AppData\\Local\\Programs\\Python\\Python313\\Lib\\site-packages\\kafka\\client_async.py:685\u001b[0m, in \u001b[0;36mKafkaClient.poll\u001b[1;34m(self, timeout_ms, future)\u001b[0m\n\u001b[0;32m    678\u001b[0m         timeout \u001b[38;5;241m=\u001b[39m \u001b[38;5;28mmin\u001b[39m(\n\u001b[0;32m    679\u001b[0m             user_timeout_ms,\n\u001b[0;32m    680\u001b[0m             metadata_timeout_ms,\n\u001b[0;32m    681\u001b[0m             idle_connection_timeout_ms,\n\u001b[0;32m    682\u001b[0m             request_timeout_ms)\n\u001b[0;32m    683\u001b[0m         timeout \u001b[38;5;241m=\u001b[39m \u001b[38;5;28mmax\u001b[39m(\u001b[38;5;241m0\u001b[39m, timeout)  \u001b[38;5;66;03m# avoid negative timeouts\u001b[39;00m\n\u001b[1;32m--> 685\u001b[0m     \u001b[38;5;28;43mself\u001b[39;49m\u001b[38;5;241;43m.\u001b[39;49m\u001b[43m_poll\u001b[49m\u001b[43m(\u001b[49m\u001b[43mtimeout\u001b[49m\u001b[43m \u001b[49m\u001b[38;5;241;43m/\u001b[39;49m\u001b[43m \u001b[49m\u001b[38;5;241;43m1000\u001b[39;49m\u001b[43m)\u001b[49m\n\u001b[0;32m    687\u001b[0m \u001b[38;5;66;03m# called without the lock to avoid deadlock potential\u001b[39;00m\n\u001b[0;32m    688\u001b[0m \u001b[38;5;66;03m# if handlers need to acquire locks\u001b[39;00m\n\u001b[0;32m    689\u001b[0m responses\u001b[38;5;241m.\u001b[39mextend(\u001b[38;5;28mself\u001b[39m\u001b[38;5;241m.\u001b[39m_fire_pending_completed_requests())\n",
      "File \u001b[1;32mc:\\Users\\PMLS\\AppData\\Local\\Programs\\Python\\Python313\\Lib\\site-packages\\kafka\\client_async.py:728\u001b[0m, in \u001b[0;36mKafkaClient._poll\u001b[1;34m(self, timeout)\u001b[0m\n\u001b[0;32m    725\u001b[0m \u001b[38;5;28mself\u001b[39m\u001b[38;5;241m.\u001b[39m_register_send_sockets()\n\u001b[0;32m    727\u001b[0m start_select \u001b[38;5;241m=\u001b[39m time\u001b[38;5;241m.\u001b[39mtime()\n\u001b[1;32m--> 728\u001b[0m ready \u001b[38;5;241m=\u001b[39m \u001b[38;5;28;43mself\u001b[39;49m\u001b[38;5;241;43m.\u001b[39;49m\u001b[43m_selector\u001b[49m\u001b[38;5;241;43m.\u001b[39;49m\u001b[43mselect\u001b[49m\u001b[43m(\u001b[49m\u001b[43mtimeout\u001b[49m\u001b[43m)\u001b[49m\n\u001b[0;32m    729\u001b[0m end_select \u001b[38;5;241m=\u001b[39m time\u001b[38;5;241m.\u001b[39mtime()\n\u001b[0;32m    730\u001b[0m \u001b[38;5;28;01mif\u001b[39;00m \u001b[38;5;28mself\u001b[39m\u001b[38;5;241m.\u001b[39m_sensors:\n",
      "File \u001b[1;32mc:\\Users\\PMLS\\AppData\\Local\\Programs\\Python\\Python313\\Lib\\selectors.py:314\u001b[0m, in \u001b[0;36mSelectSelector.select\u001b[1;34m(self, timeout)\u001b[0m\n\u001b[0;32m    312\u001b[0m ready \u001b[38;5;241m=\u001b[39m []\n\u001b[0;32m    313\u001b[0m \u001b[38;5;28;01mtry\u001b[39;00m:\n\u001b[1;32m--> 314\u001b[0m     r, w, _ \u001b[38;5;241m=\u001b[39m \u001b[38;5;28;43mself\u001b[39;49m\u001b[38;5;241;43m.\u001b[39;49m\u001b[43m_select\u001b[49m\u001b[43m(\u001b[49m\u001b[38;5;28;43mself\u001b[39;49m\u001b[38;5;241;43m.\u001b[39;49m\u001b[43m_readers\u001b[49m\u001b[43m,\u001b[49m\u001b[43m \u001b[49m\u001b[38;5;28;43mself\u001b[39;49m\u001b[38;5;241;43m.\u001b[39;49m\u001b[43m_writers\u001b[49m\u001b[43m,\u001b[49m\u001b[43m \u001b[49m\u001b[43m[\u001b[49m\u001b[43m]\u001b[49m\u001b[43m,\u001b[49m\u001b[43m \u001b[49m\u001b[43mtimeout\u001b[49m\u001b[43m)\u001b[49m\n\u001b[0;32m    315\u001b[0m \u001b[38;5;28;01mexcept\u001b[39;00m \u001b[38;5;167;01mInterruptedError\u001b[39;00m:\n\u001b[0;32m    316\u001b[0m     \u001b[38;5;28;01mreturn\u001b[39;00m ready\n",
      "File \u001b[1;32mc:\\Users\\PMLS\\AppData\\Local\\Programs\\Python\\Python313\\Lib\\selectors.py:305\u001b[0m, in \u001b[0;36mSelectSelector._select\u001b[1;34m(self, r, w, _, timeout)\u001b[0m\n\u001b[0;32m    304\u001b[0m \u001b[38;5;28;01mdef\u001b[39;00m \u001b[38;5;21m_select\u001b[39m(\u001b[38;5;28mself\u001b[39m, r, w, _, timeout\u001b[38;5;241m=\u001b[39m\u001b[38;5;28;01mNone\u001b[39;00m):\n\u001b[1;32m--> 305\u001b[0m     r, w, x \u001b[38;5;241m=\u001b[39m \u001b[43mselect\u001b[49m\u001b[38;5;241;43m.\u001b[39;49m\u001b[43mselect\u001b[49m\u001b[43m(\u001b[49m\u001b[43mr\u001b[49m\u001b[43m,\u001b[49m\u001b[43m \u001b[49m\u001b[43mw\u001b[49m\u001b[43m,\u001b[49m\u001b[43m \u001b[49m\u001b[43mw\u001b[49m\u001b[43m,\u001b[49m\u001b[43m \u001b[49m\u001b[43mtimeout\u001b[49m\u001b[43m)\u001b[49m\n\u001b[0;32m    306\u001b[0m     \u001b[38;5;28;01mreturn\u001b[39;00m r, w \u001b[38;5;241m+\u001b[39m x, []\n",
      "\u001b[1;31mKeyboardInterrupt\u001b[0m: "
     ]
    }
   ],
   "source": [
    "for c in consumer:\n",
    "    print(c.value)"
   ]
  },
  {
   "cell_type": "code",
   "execution_count": null,
   "id": "8d60dc6c",
   "metadata": {},
   "outputs": [],
   "source": [
    "s3 = S3FileSystem()"
   ]
  },
  {
   "cell_type": "code",
   "execution_count": null,
   "id": "0f135e81",
   "metadata": {},
   "outputs": [],
   "source": [
    "for count, i in enumerate(consumer):\n",
    "    with s3.open(\"s3://kafka-stock-market-tutorial-youtube-darshil/stock_market_{}.json\".format(count), 'w') as file:\n",
    "        json.dump(i.value, file)    "
   ]
  },
  {
   "cell_type": "code",
   "execution_count": null,
   "id": "7b811cb6",
   "metadata": {},
   "outputs": [],
   "source": []
  }
 ],
 "metadata": {
  "kernelspec": {
   "display_name": "Python 3",
   "language": "python",
   "name": "python3"
  },
  "language_info": {
   "codemirror_mode": {
    "name": "ipython",
    "version": 3
   },
   "file_extension": ".py",
   "mimetype": "text/x-python",
   "name": "python",
   "nbconvert_exporter": "python",
   "pygments_lexer": "ipython3",
   "version": "3.13.0"
  }
 },
 "nbformat": 4,
 "nbformat_minor": 5
}
